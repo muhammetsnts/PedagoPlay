{
 "cells": [
  {
   "cell_type": "code",
   "execution_count": 1,
   "id": "09d237ff",
   "metadata": {},
   "outputs": [
    {
     "data": {
      "text/plain": [
       "'### Indoor Activities for a 3-Year-Old in Yverdon-les-Bains\\n\\nSince your little one is just 3, these indoor ideas focus on simple, imaginative play that can be done at home or in a nearby indoor space like a community center. They\\'re perfect for any downtime, even on a sunny day.\\n\\n🌈 **Colorful Sensory Sorting**  \\nGather safe household items like colored pom-poms, buttons, or blocks in different colors and sizes. Help your child sort them into bowls or trays by color, encouraging them to name each one as they go. Add a fun twist by pretending the items are \"magic treasures\" from a story.  \\nThis activity boosts fine motor skills and color recognition, while sparking language development through naming and storytelling—ideal for a toddler\\'s growing curiosity.\\n\\n🧸 **Teddy Bear Picnic**  \\nSet up a mini picnic on the floor with stuffed animals, using play food or real snacks like fruit slices. Let your child \"host\" by arranging seats and serving items, chatting about what everyone is eating. Keep it short and end with a group song.  \\nIt encourages social-emotional play by mimicking real-life routines, helping your 3-year-old practice sharing, empathy, and basic conversation skills in a cozy, low-pressure way.\\n\\n🎵 **Freeze Dance Party**  \\nPlay upbeat music on your phone or a simple playlist, dancing freely with your child until you shout \"freeze!\"—then everyone stops in silly poses. Repeat for 10-15 minutes, varying the music to match their energy.  \\nThis builds gross motor coordination and listening skills, while promoting body awareness and joyful self-expression, which is great for a young child\\'s physical and emotional growth.\\n\\n### Outdoor Activities for a 3-Year-Old in Yverdon-les-Bains\\n\\nWith sunny weather, Yverdon-les-Bains offers lovely spots like the lakeside paths at Lake Neuchâtel or the shaded Parc du Péquignot for safe exploration. These activities are designed for one child, so they\\'re easy for you to supervise closely—stick to flat, open areas and bring water and sunscreen.\\n\\n☀️ **Nature Treasure Hunt by the Lake**  \\nHead to the gentle shores of Lake Neuchâtel (accessible from the town center) and create a simple scavenger hunt list with pictures of items like a smooth stone, a leaf, or a stick. Walk slowly together, pointing out safe finds without venturing into water.  \\nExploring nature enhances observation skills and sensory awareness, while the fresh air supports physical health and a sense of wonder—perfect for introducing a 3-year-old to their environment safely.\\n\\n🚶 **Park Shadow Play**  \\nVisit a nearby park like Parc de la Planta and use the sunshine to make shadow puppets with your hands or simple props like a stick-figure toy. Chase and mimic each other\\'s shadows on the grass, giggling at the shapes.  \\nThis playful activity develops spatial awareness and creativity, encouraging movement and laughter that boosts gross motor skills and emotional bonding during outdoor time.\\n\\n🌳 **Bubble Blowing Adventure**  \\nIn an open grassy area of a local park, blow bubbles using a kid-safe wand and solution—let your child try chasing and popping them gently. Sit on a blanket nearby to rest and observe birds or trees.  \\nBubbles promote hand-eye coordination and cause-and-effect learning, while the sunny outdoor setting fosters relaxation and joy, helping your toddler build confidence in active play.'"
      ]
     },
     "execution_count": 1,
     "metadata": {},
     "output_type": "execute_result"
    }
   ],
   "source": [
    "import pedagoplay\n",
    "\n",
    "messages = pedagoplay.get_inputs()\n",
    "result = pedagoplay.chat_completion(prompts=messages, model=\"x-ai/grok-4-fast:free\")\n",
    "result"
   ]
  },
  {
   "cell_type": "code",
   "execution_count": 2,
   "id": "2ae306c0",
   "metadata": {},
   "outputs": [
    {
     "name": "stdout",
     "output_type": "stream",
     "text": [
      "### Indoor Activities for a 3-Year-Old in Yverdon-les-Bains\n",
      "\n",
      "Since your little one is just 3, these indoor ideas focus on simple, imaginative play that can be done at home or in a nearby indoor space like a community center. They're perfect for any downtime, even on a sunny day.\n",
      "\n",
      "🌈 **Colorful Sensory Sorting**  \n",
      "Gather safe household items like colored pom-poms, buttons, or blocks in different colors and sizes. Help your child sort them into bowls or trays by color, encouraging them to name each one as they go. Add a fun twist by pretending the items are \"magic treasures\" from a story.  \n",
      "This activity boosts fine motor skills and color recognition, while sparking language development through naming and storytelling—ideal for a toddler's growing curiosity.\n",
      "\n",
      "🧸 **Teddy Bear Picnic**  \n",
      "Set up a mini picnic on the floor with stuffed animals, using play food or real snacks like fruit slices. Let your child \"host\" by arranging seats and serving items, chatting about what everyone is eating. Keep it short and end with a group song.  \n",
      "It encourages social-emotional play by mimicking real-life routines, helping your 3-year-old practice sharing, empathy, and basic conversation skills in a cozy, low-pressure way.\n",
      "\n",
      "🎵 **Freeze Dance Party**  \n",
      "Play upbeat music on your phone or a simple playlist, dancing freely with your child until you shout \"freeze!\"—then everyone stops in silly poses. Repeat for 10-15 minutes, varying the music to match their energy.  \n",
      "This builds gross motor coordination and listening skills, while promoting body awareness and joyful self-expression, which is great for a young child's physical and emotional growth.\n",
      "\n",
      "### Outdoor Activities for a 3-Year-Old in Yverdon-les-Bains\n",
      "\n",
      "With sunny weather, Yverdon-les-Bains offers lovely spots like the lakeside paths at Lake Neuchâtel or the shaded Parc du Péquignot for safe exploration. These activities are designed for one child, so they're easy for you to supervise closely—stick to flat, open areas and bring water and sunscreen.\n",
      "\n",
      "☀️ **Nature Treasure Hunt by the Lake**  \n",
      "Head to the gentle shores of Lake Neuchâtel (accessible from the town center) and create a simple scavenger hunt list with pictures of items like a smooth stone, a leaf, or a stick. Walk slowly together, pointing out safe finds without venturing into water.  \n",
      "Exploring nature enhances observation skills and sensory awareness, while the fresh air supports physical health and a sense of wonder—perfect for introducing a 3-year-old to their environment safely.\n",
      "\n",
      "🚶 **Park Shadow Play**  \n",
      "Visit a nearby park like Parc de la Planta and use the sunshine to make shadow puppets with your hands or simple props like a stick-figure toy. Chase and mimic each other's shadows on the grass, giggling at the shapes.  \n",
      "This playful activity develops spatial awareness and creativity, encouraging movement and laughter that boosts gross motor skills and emotional bonding during outdoor time.\n",
      "\n",
      "🌳 **Bubble Blowing Adventure**  \n",
      "In an open grassy area of a local park, blow bubbles using a kid-safe wand and solution—let your child try chasing and popping them gently. Sit on a blanket nearby to rest and observe birds or trees.  \n",
      "Bubbles promote hand-eye coordination and cause-and-effect learning, while the sunny outdoor setting fosters relaxation and joy, helping your toddler build confidence in active play.\n"
     ]
    }
   ],
   "source": [
    "print(result)"
   ]
  },
  {
   "cell_type": "code",
   "execution_count": 4,
   "id": "a4f4bb6e",
   "metadata": {},
   "outputs": [
    {
     "data": {
      "text/plain": [
       "'<h3>Indoor Activities (Ideal for Rainy Days in Yverdon-les-Bains)</h3>\\n<p>These activities are perfect for keeping your two little ones cozy and engaged indoors, perhaps at home or in a local covered space like a community center. With ages 3 and 4, focus on simple, hands-on play that encourages creativity and fine motor skills while they stay dry.</p>\\n<p><strong>🧸 Block Building Adventure</strong><br />\\nGather soft blocks or Duplo for your children to build towers, houses, or even a mini Yverdon castle together. Encourage them to take turns adding pieces and describe what they\\'re creating, like \"a boat for the lake.\" If you have just a small play area, use cushions as a base to contain the fun.<br />\\nThis activity boosts spatial awareness and problem-solving skills, while the collaborative element helps siblings practice sharing and communication—key for their social development at this age.</p>\\n<p><strong>🎨 Finger Painting Fun</strong><br />\\nSet up washable paints and large paper on a protected table; let them dip their fingers (or safe brushes) to create colorful scenes inspired by the rainy weather outside, like swirling clouds or splashing puddles. Supervise closely to keep it mess-free, and end with a gentle hand wash. For two kids, provide side-by-side easels or shared paper to spark joint artwork.<br />\\nIt enhances fine motor control and sensory exploration, fostering creativity and emotional expression through colors, which supports early artistic growth in preschoolers.</p>\\n<p><strong>📖 Puppet Storytime</strong><br />\\nUse simple homemade puppets (from socks or paper bags) to act out a short story about rainy day adventures near Lake Neuchâtel, involving the kids in making animal sounds or simple dialogues. Sit in a circle on the floor for 10-15 minutes, then let them retell the tale with their own puppets. This works well in limited space and keeps energy levels balanced.<br />\\nStorytelling builds language skills, imagination, and listening abilities, while the interactive play promotes empathy and turn-taking between your two young ones.</p>\\n<h3>Outdoor Activity (Rain-Adapted for Yverdon-les-Bains)</h3>\\n<p>Rainy weather in Yverdon-les-Bains calls for waterproof gear, but you can still head out briefly to a sheltered spot like the covered areas near the lake promenade or a nearby park pavilion for some fresh air without getting soaked.</p>\\n<p><strong>☔ Puddle Exploration Walk</strong><br />\\nDress in raincoats and boots for a short, supervised stroll to a nearby paved path or the edges of Yverdon\\'s lakeside park, where they can safely splash in shallow puddles and observe raindrops on leaves. Use umbrellas for cover and point out natural sights like birds or ripples in the lake to make it educational. Keep it to 15-20 minutes to avoid chills, and return indoors for warm snacks.<br />\\nThis encourages gross motor development through movement and curiosity about nature, helping 3- and 4-year-olds build confidence in exploring their environment while learning about weather in a safe, sensory way.</p>'"
      ]
     },
     "execution_count": 4,
     "metadata": {},
     "output_type": "execute_result"
    }
   ],
   "source": [
    "html_content"
   ]
  },
  {
   "cell_type": "code",
   "execution_count": 3,
   "id": "5327b8c2",
   "metadata": {},
   "outputs": [],
   "source": [
    "import markdown\n",
    "\n",
    "html_content = markdown.markdown(result)\n",
    "\n",
    "html_page = f\"\"\"\n",
    "<!DOCTYPE html>\n",
    "<html>\n",
    "<head>\n",
    "  <meta charset=\"utf-8\">\n",
    "  <title>LLM Output</title>\n",
    "  <style>\n",
    "    body {{\n",
    "      font-family: Arial, sans-serif;\n",
    "      line-height: 1.6;\n",
    "    }}\n",
    "    div.container {{\n",
    "      border: 1px solid #ccc;\n",
    "      border-radius: 8px;\n",
    "      padding: 20px;\n",
    "      margin: 20px auto;\n",
    "      max-width: 700px;\n",
    "      background: #fafafa;\n",
    "    }}\n",
    "    h4 {{\n",
    "      margin-top: 0;\n",
    "    }}\n",
    "  </style>\n",
    "</head>\n",
    "<body>\n",
    "  <div class=\"container\">\n",
    "    {html_content}\n",
    "  </div>\n",
    "</body>\n",
    "</html>\n",
    "\"\"\"\n",
    "\n",
    "with open(\"output.html\", \"w\", encoding=\"utf-8\") as f:\n",
    "    f.write(html_page)\n"
   ]
  },
  {
   "cell_type": "code",
   "execution_count": null,
   "id": "cdf30f7d",
   "metadata": {},
   "outputs": [],
   "source": []
  },
  {
   "cell_type": "code",
   "execution_count": null,
   "id": "e43a4d95",
   "metadata": {},
   "outputs": [],
   "source": []
  },
  {
   "cell_type": "code",
   "execution_count": null,
   "id": "56557d03",
   "metadata": {},
   "outputs": [],
   "source": []
  },
  {
   "cell_type": "code",
   "execution_count": null,
   "id": "632f7b01",
   "metadata": {},
   "outputs": [],
   "source": []
  },
  {
   "cell_type": "code",
   "execution_count": null,
   "id": "5212e592",
   "metadata": {},
   "outputs": [],
   "source": []
  }
 ],
 "metadata": {
  "kernelspec": {
   "display_name": "Python 3",
   "language": "python",
   "name": "python3"
  },
  "language_info": {
   "codemirror_mode": {
    "name": "ipython",
    "version": 3
   },
   "file_extension": ".py",
   "mimetype": "text/x-python",
   "name": "python",
   "nbconvert_exporter": "python",
   "pygments_lexer": "ipython3",
   "version": "3.11.4"
  }
 },
 "nbformat": 4,
 "nbformat_minor": 5
}
