{
 "cells": [
  {
   "cell_type": "code",
   "execution_count": null,
   "id": "79f8ccdc",
   "metadata": {},
   "outputs": [],
   "source": [
    "import os\n",
    "OPENROUTER_API_KEY = os.getenv(\"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\")\n",
    "os.environ[\"OPENROUTER_API_KEY\"] = \"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\"\n"
   ]
  },
  {
   "cell_type": "code",
   "execution_count": null,
   "id": "8de38090",
   "metadata": {},
   "outputs": [],
   "source": []
  },
  {
   "cell_type": "code",
   "execution_count": null,
   "id": "3bb1b523",
   "metadata": {},
   "outputs": [],
   "source": []
  },
  {
   "cell_type": "code",
   "execution_count": null,
   "id": "09d237ff",
   "metadata": {},
   "outputs": [],
   "source": []
  },
  {
   "cell_type": "code",
   "execution_count": null,
   "id": "2ae306c0",
   "metadata": {},
   "outputs": [],
   "source": []
  },
  {
   "cell_type": "code",
   "execution_count": null,
   "id": "a4f4bb6e",
   "metadata": {},
   "outputs": [],
   "source": []
  },
  {
   "cell_type": "code",
   "execution_count": null,
   "id": "5327b8c2",
   "metadata": {},
   "outputs": [],
   "source": []
  },
  {
   "cell_type": "code",
   "execution_count": null,
   "id": "5212e592",
   "metadata": {},
   "outputs": [],
   "source": []
  }
 ],
 "metadata": {
  "kernelspec": {
   "display_name": "Python 3",
   "language": "python",
   "name": "python3"
  },
  "language_info": {
   "codemirror_mode": {
    "name": "ipython",
    "version": 3
   },
   "file_extension": ".py",
   "mimetype": "text/x-python",
   "name": "python",
   "nbconvert_exporter": "python",
   "pygments_lexer": "ipython3",
   "version": "3.11.4"
  }
 },
 "nbformat": 4,
 "nbformat_minor": 5
}
